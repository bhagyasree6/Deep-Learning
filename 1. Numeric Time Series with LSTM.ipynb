{
 "cells": [
  {
   "cell_type": "markdown",
   "metadata": {},
   "source": [
    "# Univariate Time Series"
   ]
  },
  {
   "cell_type": "code",
   "execution_count": 1,
   "metadata": {},
   "outputs": [
    {
     "name": "stderr",
     "output_type": "stream",
     "text": [
      "Using TensorFlow backend.\n"
     ]
    }
   ],
   "source": [
    "import warnings\n",
    "warnings.filterwarnings('ignore')\n",
    "import pandas as pd\n",
    "import numpy as np\n",
    "import math\n",
    "from keras.models import Sequential\n",
    "from keras.layers.recurrent import LSTM\n",
    "from keras.layers.core import Dense, Activation, Dropout\n",
    "from sklearn.preprocessing import MinMaxScaler,StandardScaler\n",
    "from sklearn.metrics import mean_squared_error\n",
    "from sklearn.utils import shuffle"
   ]
  },
  {
   "cell_type": "code",
   "execution_count": 2,
   "metadata": {},
   "outputs": [],
   "source": [
    "file=r'C:\\Users\\salumuri\\Downloads\\international-airline-passengers.csv'"
   ]
  },
  {
   "cell_type": "code",
   "execution_count": 3,
   "metadata": {},
   "outputs": [],
   "source": [
    "data = pd.read_csv(file)"
   ]
  },
  {
   "cell_type": "code",
   "execution_count": 4,
   "metadata": {},
   "outputs": [
    {
     "data": {
      "text/html": [
       "<div>\n",
       "<style scoped>\n",
       "    .dataframe tbody tr th:only-of-type {\n",
       "        vertical-align: middle;\n",
       "    }\n",
       "\n",
       "    .dataframe tbody tr th {\n",
       "        vertical-align: top;\n",
       "    }\n",
       "\n",
       "    .dataframe thead th {\n",
       "        text-align: right;\n",
       "    }\n",
       "</style>\n",
       "<table border=\"1\" class=\"dataframe\">\n",
       "  <thead>\n",
       "    <tr style=\"text-align: right;\">\n",
       "      <th></th>\n",
       "      <th>Month</th>\n",
       "      <th>passengers_in_100_thousands</th>\n",
       "    </tr>\n",
       "  </thead>\n",
       "  <tbody>\n",
       "    <tr>\n",
       "      <th>0</th>\n",
       "      <td>1949-01</td>\n",
       "      <td>112</td>\n",
       "    </tr>\n",
       "    <tr>\n",
       "      <th>1</th>\n",
       "      <td>1949-02</td>\n",
       "      <td>118</td>\n",
       "    </tr>\n",
       "    <tr>\n",
       "      <th>2</th>\n",
       "      <td>1949-03</td>\n",
       "      <td>132</td>\n",
       "    </tr>\n",
       "    <tr>\n",
       "      <th>3</th>\n",
       "      <td>1949-04</td>\n",
       "      <td>129</td>\n",
       "    </tr>\n",
       "    <tr>\n",
       "      <th>4</th>\n",
       "      <td>1949-05</td>\n",
       "      <td>121</td>\n",
       "    </tr>\n",
       "  </tbody>\n",
       "</table>\n",
       "</div>"
      ],
      "text/plain": [
       "     Month  passengers_in_100_thousands\n",
       "0  1949-01                          112\n",
       "1  1949-02                          118\n",
       "2  1949-03                          132\n",
       "3  1949-04                          129\n",
       "4  1949-05                          121"
      ]
     },
     "execution_count": 4,
     "metadata": {},
     "output_type": "execute_result"
    }
   ],
   "source": [
    "data.head()"
   ]
  },
  {
   "cell_type": "code",
   "execution_count": 5,
   "metadata": {},
   "outputs": [],
   "source": [
    "ts_data=data.iloc[:,1]"
   ]
  },
  {
   "cell_type": "code",
   "execution_count": 6,
   "metadata": {},
   "outputs": [],
   "source": [
    "scaler = MinMaxScaler(feature_range = (0, 1))\n",
    "dataset = scaler.fit_transform(pd.DataFrame(ts_data))\n",
    "# MinMaxScaler needs the data in 2D array , thats why the syntactical jugglery above"
   ]
  },
  {
   "cell_type": "code",
   "execution_count": 7,
   "metadata": {},
   "outputs": [],
   "source": [
    "train_fraction = 0.60\n",
    "\n",
    "train_size = int(len(dataset) * train_fraction)\n",
    "test_size = len(dataset) - train_size\n",
    "train, test = dataset[0:train_size, :], dataset[train_size:len(dataset), :]"
   ]
  },
  {
   "cell_type": "code",
   "execution_count": 8,
   "metadata": {},
   "outputs": [],
   "source": [
    "def create_dataset(dataset, window_size = 1):\n",
    "    data_X, data_Y = [], []\n",
    "    for i in range(len(dataset) - window_size - 1):\n",
    "        a = dataset[i:(i + window_size), 0]\n",
    "        data_X.append(a)\n",
    "        data_Y.append(dataset[i + window_size, 0])\n",
    "    return(np.array(data_X), np.array(data_Y))"
   ]
  },
  {
   "cell_type": "code",
   "execution_count": 9,
   "metadata": {},
   "outputs": [
    {
     "name": "stdout",
     "output_type": "stream",
     "text": [
      "Original training data shape:\n",
      "(75, 10)\n"
     ]
    }
   ],
   "source": [
    "window_size = 10\n",
    "train_X, train_Y = create_dataset(train, window_size)\n",
    "test_X, test_Y = create_dataset(test, window_size)\n",
    "print(\"Original training data shape:\")\n",
    "print(train_X.shape)"
   ]
  },
  {
   "cell_type": "code",
   "execution_count": 10,
   "metadata": {},
   "outputs": [
    {
     "data": {
      "text/html": [
       "<div>\n",
       "<style scoped>\n",
       "    .dataframe tbody tr th:only-of-type {\n",
       "        vertical-align: middle;\n",
       "    }\n",
       "\n",
       "    .dataframe tbody tr th {\n",
       "        vertical-align: top;\n",
       "    }\n",
       "\n",
       "    .dataframe thead th {\n",
       "        text-align: right;\n",
       "    }\n",
       "</style>\n",
       "<table border=\"1\" class=\"dataframe\">\n",
       "  <thead>\n",
       "    <tr style=\"text-align: right;\">\n",
       "      <th></th>\n",
       "      <th>0</th>\n",
       "      <th>1</th>\n",
       "      <th>2</th>\n",
       "      <th>3</th>\n",
       "      <th>4</th>\n",
       "      <th>5</th>\n",
       "      <th>6</th>\n",
       "      <th>7</th>\n",
       "      <th>8</th>\n",
       "      <th>9</th>\n",
       "    </tr>\n",
       "  </thead>\n",
       "  <tbody>\n",
       "    <tr>\n",
       "      <th>0</th>\n",
       "      <td>0.015444</td>\n",
       "      <td>0.027027</td>\n",
       "      <td>0.054054</td>\n",
       "      <td>0.048263</td>\n",
       "      <td>0.032819</td>\n",
       "      <td>0.059846</td>\n",
       "      <td>0.084942</td>\n",
       "      <td>0.084942</td>\n",
       "      <td>0.061776</td>\n",
       "      <td>0.028958</td>\n",
       "    </tr>\n",
       "    <tr>\n",
       "      <th>1</th>\n",
       "      <td>0.027027</td>\n",
       "      <td>0.054054</td>\n",
       "      <td>0.048263</td>\n",
       "      <td>0.032819</td>\n",
       "      <td>0.059846</td>\n",
       "      <td>0.084942</td>\n",
       "      <td>0.084942</td>\n",
       "      <td>0.061776</td>\n",
       "      <td>0.028958</td>\n",
       "      <td>0.000000</td>\n",
       "    </tr>\n",
       "    <tr>\n",
       "      <th>2</th>\n",
       "      <td>0.054054</td>\n",
       "      <td>0.048263</td>\n",
       "      <td>0.032819</td>\n",
       "      <td>0.059846</td>\n",
       "      <td>0.084942</td>\n",
       "      <td>0.084942</td>\n",
       "      <td>0.061776</td>\n",
       "      <td>0.028958</td>\n",
       "      <td>0.000000</td>\n",
       "      <td>0.027027</td>\n",
       "    </tr>\n",
       "    <tr>\n",
       "      <th>3</th>\n",
       "      <td>0.048263</td>\n",
       "      <td>0.032819</td>\n",
       "      <td>0.059846</td>\n",
       "      <td>0.084942</td>\n",
       "      <td>0.084942</td>\n",
       "      <td>0.061776</td>\n",
       "      <td>0.028958</td>\n",
       "      <td>0.000000</td>\n",
       "      <td>0.027027</td>\n",
       "      <td>0.021236</td>\n",
       "    </tr>\n",
       "    <tr>\n",
       "      <th>4</th>\n",
       "      <td>0.032819</td>\n",
       "      <td>0.059846</td>\n",
       "      <td>0.084942</td>\n",
       "      <td>0.084942</td>\n",
       "      <td>0.061776</td>\n",
       "      <td>0.028958</td>\n",
       "      <td>0.000000</td>\n",
       "      <td>0.027027</td>\n",
       "      <td>0.021236</td>\n",
       "      <td>0.042471</td>\n",
       "    </tr>\n",
       "  </tbody>\n",
       "</table>\n",
       "</div>"
      ],
      "text/plain": [
       "          0         1         2         3         4         5         6  \\\n",
       "0  0.015444  0.027027  0.054054  0.048263  0.032819  0.059846  0.084942   \n",
       "1  0.027027  0.054054  0.048263  0.032819  0.059846  0.084942  0.084942   \n",
       "2  0.054054  0.048263  0.032819  0.059846  0.084942  0.084942  0.061776   \n",
       "3  0.048263  0.032819  0.059846  0.084942  0.084942  0.061776  0.028958   \n",
       "4  0.032819  0.059846  0.084942  0.084942  0.061776  0.028958  0.000000   \n",
       "\n",
       "          7         8         9  \n",
       "0  0.084942  0.061776  0.028958  \n",
       "1  0.061776  0.028958  0.000000  \n",
       "2  0.028958  0.000000  0.027027  \n",
       "3  0.000000  0.027027  0.021236  \n",
       "4  0.027027  0.021236  0.042471  "
      ]
     },
     "execution_count": 10,
     "metadata": {},
     "output_type": "execute_result"
    }
   ],
   "source": [
    "pd.DataFrame(train_X).head()"
   ]
  },
  {
   "cell_type": "code",
   "execution_count": 11,
   "metadata": {},
   "outputs": [
    {
     "name": "stdout",
     "output_type": "stream",
     "text": [
      "New training data shape:\n",
      "(75, 1, 10)\n"
     ]
    }
   ],
   "source": [
    "# shape of data should be : (num_obs, feature_dimension, sequence_length)\n",
    "train_X = np.reshape(train_X, (train_X.shape[0], 1, train_X.shape[1]))\n",
    "test_X = np.reshape(test_X, (test_X.shape[0], 1, test_X.shape[1]))\n",
    "print(\"New training data shape:\")\n",
    "print(train_X.shape)"
   ]
  },
  {
   "cell_type": "code",
   "execution_count": 12,
   "metadata": {},
   "outputs": [
    {
     "name": "stdout",
     "output_type": "stream",
     "text": [
      "WARNING:tensorflow:From C:\\Users\\salumuri\\Anaconda3\\lib\\site-packages\\tensorflow\\python\\framework\\op_def_library.py:263: colocate_with (from tensorflow.python.framework.ops) is deprecated and will be removed in a future version.\n",
      "Instructions for updating:\n",
      "Colocations handled automatically by placer.\n",
      "WARNING:tensorflow:From C:\\Users\\salumuri\\Anaconda3\\lib\\site-packages\\tensorflow\\python\\ops\\math_ops.py:3066: to_int32 (from tensorflow.python.ops.math_ops) is deprecated and will be removed in a future version.\n",
      "Instructions for updating:\n",
      "Use tf.cast instead.\n",
      "Epoch 1/100\n",
      " - 2s - loss: 0.0623\n",
      "Epoch 2/100\n",
      " - 0s - loss: 0.0239\n",
      "Epoch 3/100\n",
      " - 0s - loss: 0.0103\n",
      "Epoch 4/100\n",
      " - 0s - loss: 0.0079\n",
      "Epoch 5/100\n",
      " - 0s - loss: 0.0071\n",
      "Epoch 6/100\n",
      " - 0s - loss: 0.0065\n",
      "Epoch 7/100\n",
      " - 0s - loss: 0.0060\n",
      "Epoch 8/100\n",
      " - 0s - loss: 0.0055\n",
      "Epoch 9/100\n",
      " - 0s - loss: 0.0051\n",
      "Epoch 10/100\n",
      " - 0s - loss: 0.0048\n",
      "Epoch 11/100\n",
      " - 0s - loss: 0.0045\n",
      "Epoch 12/100\n",
      " - 0s - loss: 0.0042\n",
      "Epoch 13/100\n",
      " - 0s - loss: 0.0040\n",
      "Epoch 14/100\n",
      " - 0s - loss: 0.0038\n",
      "Epoch 15/100\n",
      " - 0s - loss: 0.0038\n",
      "Epoch 16/100\n",
      " - 0s - loss: 0.0036\n",
      "Epoch 17/100\n",
      " - 0s - loss: 0.0035\n",
      "Epoch 18/100\n",
      " - 0s - loss: 0.0034\n",
      "Epoch 19/100\n",
      " - 0s - loss: 0.0034\n",
      "Epoch 20/100\n",
      " - 0s - loss: 0.0032\n",
      "Epoch 21/100\n",
      " - 0s - loss: 0.0032\n",
      "Epoch 22/100\n",
      " - 0s - loss: 0.0032\n",
      "Epoch 23/100\n",
      " - 0s - loss: 0.0031\n",
      "Epoch 24/100\n",
      " - 0s - loss: 0.0030\n",
      "Epoch 25/100\n",
      " - 0s - loss: 0.0029\n",
      "Epoch 26/100\n",
      " - 0s - loss: 0.0029\n",
      "Epoch 27/100\n",
      " - 0s - loss: 0.0027\n",
      "Epoch 28/100\n",
      " - 0s - loss: 0.0028\n",
      "Epoch 29/100\n",
      " - 0s - loss: 0.0027\n",
      "Epoch 30/100\n",
      " - 0s - loss: 0.0026\n",
      "Epoch 31/100\n",
      " - 0s - loss: 0.0026\n",
      "Epoch 32/100\n",
      " - 0s - loss: 0.0025\n",
      "Epoch 33/100\n",
      " - 0s - loss: 0.0024\n",
      "Epoch 34/100\n",
      " - 0s - loss: 0.0024\n",
      "Epoch 35/100\n",
      " - 0s - loss: 0.0023\n",
      "Epoch 36/100\n",
      " - 0s - loss: 0.0023\n",
      "Epoch 37/100\n",
      " - 0s - loss: 0.0022\n",
      "Epoch 38/100\n",
      " - 0s - loss: 0.0022\n",
      "Epoch 39/100\n",
      " - 0s - loss: 0.0021\n",
      "Epoch 40/100\n",
      " - 0s - loss: 0.0021\n",
      "Epoch 41/100\n",
      " - 0s - loss: 0.0021\n",
      "Epoch 42/100\n",
      " - 0s - loss: 0.0019\n",
      "Epoch 43/100\n",
      " - 0s - loss: 0.0021\n",
      "Epoch 44/100\n",
      " - 0s - loss: 0.0019\n",
      "Epoch 45/100\n",
      " - 0s - loss: 0.0019\n",
      "Epoch 46/100\n",
      " - 0s - loss: 0.0019\n",
      "Epoch 47/100\n",
      " - 0s - loss: 0.0019\n",
      "Epoch 48/100\n",
      " - 0s - loss: 0.0017\n",
      "Epoch 49/100\n",
      " - 0s - loss: 0.0019\n",
      "Epoch 50/100\n",
      " - 0s - loss: 0.0017\n",
      "Epoch 51/100\n",
      " - 0s - loss: 0.0017\n",
      "Epoch 52/100\n",
      " - 0s - loss: 0.0017\n",
      "Epoch 53/100\n",
      " - 0s - loss: 0.0016\n",
      "Epoch 54/100\n",
      " - 0s - loss: 0.0017\n",
      "Epoch 55/100\n",
      " - 0s - loss: 0.0016\n",
      "Epoch 56/100\n",
      " - 0s - loss: 0.0017\n",
      "Epoch 57/100\n",
      " - 0s - loss: 0.0015\n",
      "Epoch 58/100\n",
      " - 0s - loss: 0.0016\n",
      "Epoch 59/100\n",
      " - 0s - loss: 0.0015\n",
      "Epoch 60/100\n",
      " - 0s - loss: 0.0016\n",
      "Epoch 61/100\n",
      " - 0s - loss: 0.0015\n",
      "Epoch 62/100\n",
      " - 0s - loss: 0.0015\n",
      "Epoch 63/100\n",
      " - 0s - loss: 0.0015\n",
      "Epoch 64/100\n",
      " - 0s - loss: 0.0015\n",
      "Epoch 65/100\n",
      " - 0s - loss: 0.0014\n",
      "Epoch 66/100\n",
      " - 0s - loss: 0.0015\n",
      "Epoch 67/100\n",
      " - 0s - loss: 0.0015\n",
      "Epoch 68/100\n",
      " - 0s - loss: 0.0014\n",
      "Epoch 69/100\n",
      " - 0s - loss: 0.0016\n",
      "Epoch 70/100\n",
      " - 0s - loss: 0.0014\n",
      "Epoch 71/100\n",
      " - 0s - loss: 0.0014\n",
      "Epoch 72/100\n",
      " - 0s - loss: 0.0014\n",
      "Epoch 73/100\n",
      " - 0s - loss: 0.0013\n",
      "Epoch 74/100\n",
      " - 0s - loss: 0.0016\n",
      "Epoch 75/100\n",
      " - 0s - loss: 0.0015\n",
      "Epoch 76/100\n",
      " - 0s - loss: 0.0014\n",
      "Epoch 77/100\n",
      " - 0s - loss: 0.0014\n",
      "Epoch 78/100\n",
      " - 0s - loss: 0.0014\n",
      "Epoch 79/100\n",
      " - 0s - loss: 0.0015\n",
      "Epoch 80/100\n",
      " - 0s - loss: 0.0014\n",
      "Epoch 81/100\n",
      " - 0s - loss: 0.0014\n",
      "Epoch 82/100\n",
      " - 0s - loss: 0.0013\n",
      "Epoch 83/100\n",
      " - 0s - loss: 0.0014\n",
      "Epoch 84/100\n",
      " - 0s - loss: 0.0014\n",
      "Epoch 85/100\n",
      " - 0s - loss: 0.0014\n",
      "Epoch 86/100\n",
      " - 0s - loss: 0.0014\n",
      "Epoch 87/100\n",
      " - 0s - loss: 0.0013\n",
      "Epoch 88/100\n",
      " - 0s - loss: 0.0014\n",
      "Epoch 89/100\n",
      " - 0s - loss: 0.0013\n",
      "Epoch 90/100\n",
      " - 0s - loss: 0.0014\n",
      "Epoch 91/100\n",
      " - 0s - loss: 0.0013\n",
      "Epoch 92/100\n",
      " - 0s - loss: 0.0013\n",
      "Epoch 93/100\n",
      " - 0s - loss: 0.0014\n",
      "Epoch 94/100\n",
      " - 0s - loss: 0.0013\n",
      "Epoch 95/100\n",
      " - 0s - loss: 0.0013\n",
      "Epoch 96/100\n",
      " - 0s - loss: 0.0013\n",
      "Epoch 97/100\n",
      " - 0s - loss: 0.0013\n",
      "Epoch 98/100\n",
      " - 0s - loss: 0.0013\n",
      "Epoch 99/100\n",
      " - 0s - loss: 0.0013\n",
      "Epoch 100/100\n",
      " - 0s - loss: 0.0013\n"
     ]
    },
    {
     "data": {
      "text/plain": [
       "<keras.callbacks.History at 0x1b36311bd30>"
      ]
     },
     "execution_count": 12,
     "metadata": {},
     "output_type": "execute_result"
    }
   ],
   "source": [
    "# input shape : (feature_dimension, seq_length)\n",
    "model = Sequential()\n",
    "    \n",
    "model.add(LSTM(4, \n",
    "               input_shape = (1, window_size)))\n",
    "model.add(Dense(1))\n",
    "model.compile(loss = \"mean_squared_error\", \n",
    "              optimizer = \"adam\")\n",
    "model.fit(train_X, \n",
    "          train_Y, \n",
    "          epochs = 100, \n",
    "          batch_size = 1, \n",
    "          verbose = 2)"
   ]
  },
  {
   "cell_type": "code",
   "execution_count": 13,
   "metadata": {},
   "outputs": [],
   "source": [
    "# Make predictions on the original scale of the data.\n",
    "pred = scaler.inverse_transform(model.predict(train_X))\n",
    "# Prepare Y data to also be on the original scale for interpretability.\n",
    "orig_data = scaler.inverse_transform([train_Y])\n",
    "# Calculate RMSE.\n",
    "score_train = np.sqrt(mean_squared_error(orig_data[0], pred[:, 0]))"
   ]
  },
  {
   "cell_type": "code",
   "execution_count": 14,
   "metadata": {},
   "outputs": [],
   "source": [
    "# Make predictions on the original scale of the data.\n",
    "pred = scaler.inverse_transform(model.predict(test_X))\n",
    "# Prepare Y data to also be on the original scale for interpretability.\n",
    "orig_data = scaler.inverse_transform([test_Y])\n",
    "# Calculate RMSE.\n",
    "score_test = np.sqrt(mean_squared_error(orig_data[0], pred[:, 0]))"
   ]
  },
  {
   "cell_type": "code",
   "execution_count": 15,
   "metadata": {},
   "outputs": [
    {
     "name": "stdout",
     "output_type": "stream",
     "text": [
      "Training data score:  18.924087727201943\n",
      "Test data score:  49.73938035091093\n"
     ]
    }
   ],
   "source": [
    "print(\"Training data score: \",  score_train)\n",
    "print(\"Test data score: \",  score_test)"
   ]
  },
  {
   "cell_type": "markdown",
   "metadata": {},
   "source": [
    "# Multiple Time Series"
   ]
  },
  {
   "cell_type": "code",
   "execution_count": 16,
   "metadata": {},
   "outputs": [],
   "source": [
    "file=r'C:\\Users\\salumuri\\Downloads\\all_stocks_2006-01-01_to_2018-01-01.csv'\n",
    "data=pd.read_csv(file)"
   ]
  },
  {
   "cell_type": "code",
   "execution_count": 17,
   "metadata": {},
   "outputs": [
    {
     "data": {
      "text/html": [
       "<div>\n",
       "<style scoped>\n",
       "    .dataframe tbody tr th:only-of-type {\n",
       "        vertical-align: middle;\n",
       "    }\n",
       "\n",
       "    .dataframe tbody tr th {\n",
       "        vertical-align: top;\n",
       "    }\n",
       "\n",
       "    .dataframe thead th {\n",
       "        text-align: right;\n",
       "    }\n",
       "</style>\n",
       "<table border=\"1\" class=\"dataframe\">\n",
       "  <thead>\n",
       "    <tr style=\"text-align: right;\">\n",
       "      <th></th>\n",
       "      <th>Date</th>\n",
       "      <th>Open</th>\n",
       "      <th>High</th>\n",
       "      <th>Low</th>\n",
       "      <th>Close</th>\n",
       "      <th>Volume</th>\n",
       "      <th>Name</th>\n",
       "    </tr>\n",
       "  </thead>\n",
       "  <tbody>\n",
       "    <tr>\n",
       "      <th>0</th>\n",
       "      <td>2006-01-03</td>\n",
       "      <td>77.76</td>\n",
       "      <td>79.35</td>\n",
       "      <td>77.24</td>\n",
       "      <td>79.11</td>\n",
       "      <td>3117200</td>\n",
       "      <td>MMM</td>\n",
       "    </tr>\n",
       "    <tr>\n",
       "      <th>1</th>\n",
       "      <td>2006-01-04</td>\n",
       "      <td>79.49</td>\n",
       "      <td>79.49</td>\n",
       "      <td>78.25</td>\n",
       "      <td>78.71</td>\n",
       "      <td>2558000</td>\n",
       "      <td>MMM</td>\n",
       "    </tr>\n",
       "    <tr>\n",
       "      <th>2</th>\n",
       "      <td>2006-01-05</td>\n",
       "      <td>78.41</td>\n",
       "      <td>78.65</td>\n",
       "      <td>77.56</td>\n",
       "      <td>77.99</td>\n",
       "      <td>2529500</td>\n",
       "      <td>MMM</td>\n",
       "    </tr>\n",
       "    <tr>\n",
       "      <th>3</th>\n",
       "      <td>2006-01-06</td>\n",
       "      <td>78.64</td>\n",
       "      <td>78.90</td>\n",
       "      <td>77.64</td>\n",
       "      <td>78.63</td>\n",
       "      <td>2479500</td>\n",
       "      <td>MMM</td>\n",
       "    </tr>\n",
       "    <tr>\n",
       "      <th>4</th>\n",
       "      <td>2006-01-09</td>\n",
       "      <td>78.50</td>\n",
       "      <td>79.83</td>\n",
       "      <td>78.46</td>\n",
       "      <td>79.02</td>\n",
       "      <td>1845600</td>\n",
       "      <td>MMM</td>\n",
       "    </tr>\n",
       "  </tbody>\n",
       "</table>\n",
       "</div>"
      ],
      "text/plain": [
       "         Date   Open   High    Low  Close   Volume Name\n",
       "0  2006-01-03  77.76  79.35  77.24  79.11  3117200  MMM\n",
       "1  2006-01-04  79.49  79.49  78.25  78.71  2558000  MMM\n",
       "2  2006-01-05  78.41  78.65  77.56  77.99  2529500  MMM\n",
       "3  2006-01-06  78.64  78.90  77.64  78.63  2479500  MMM\n",
       "4  2006-01-09  78.50  79.83  78.46  79.02  1845600  MMM"
      ]
     },
     "execution_count": 17,
     "metadata": {},
     "output_type": "execute_result"
    }
   ],
   "source": [
    "data.head()"
   ]
  },
  {
   "cell_type": "code",
   "execution_count": 18,
   "metadata": {},
   "outputs": [],
   "source": [
    "data=data[['Date','Close','Name']]"
   ]
  },
  {
   "cell_type": "code",
   "execution_count": 19,
   "metadata": {},
   "outputs": [],
   "source": [
    "multi_ts=data.pivot_table(columns='Name',values='Close',index='Date')"
   ]
  },
  {
   "cell_type": "code",
   "execution_count": 20,
   "metadata": {},
   "outputs": [
    {
     "data": {
      "text/html": [
       "<div>\n",
       "<style scoped>\n",
       "    .dataframe tbody tr th:only-of-type {\n",
       "        vertical-align: middle;\n",
       "    }\n",
       "\n",
       "    .dataframe tbody tr th {\n",
       "        vertical-align: top;\n",
       "    }\n",
       "\n",
       "    .dataframe thead th {\n",
       "        text-align: right;\n",
       "    }\n",
       "</style>\n",
       "<table border=\"1\" class=\"dataframe\">\n",
       "  <thead>\n",
       "    <tr style=\"text-align: right;\">\n",
       "      <th>Name</th>\n",
       "      <th>AABA</th>\n",
       "      <th>AAPL</th>\n",
       "      <th>AMZN</th>\n",
       "      <th>AXP</th>\n",
       "      <th>BA</th>\n",
       "      <th>CAT</th>\n",
       "      <th>CSCO</th>\n",
       "      <th>CVX</th>\n",
       "      <th>DIS</th>\n",
       "      <th>GE</th>\n",
       "      <th>...</th>\n",
       "      <th>MSFT</th>\n",
       "      <th>NKE</th>\n",
       "      <th>PFE</th>\n",
       "      <th>PG</th>\n",
       "      <th>TRV</th>\n",
       "      <th>UNH</th>\n",
       "      <th>UTX</th>\n",
       "      <th>VZ</th>\n",
       "      <th>WMT</th>\n",
       "      <th>XOM</th>\n",
       "    </tr>\n",
       "    <tr>\n",
       "      <th>Date</th>\n",
       "      <th></th>\n",
       "      <th></th>\n",
       "      <th></th>\n",
       "      <th></th>\n",
       "      <th></th>\n",
       "      <th></th>\n",
       "      <th></th>\n",
       "      <th></th>\n",
       "      <th></th>\n",
       "      <th></th>\n",
       "      <th></th>\n",
       "      <th></th>\n",
       "      <th></th>\n",
       "      <th></th>\n",
       "      <th></th>\n",
       "      <th></th>\n",
       "      <th></th>\n",
       "      <th></th>\n",
       "      <th></th>\n",
       "      <th></th>\n",
       "      <th></th>\n",
       "    </tr>\n",
       "  </thead>\n",
       "  <tbody>\n",
       "    <tr>\n",
       "      <th>2006-01-03</th>\n",
       "      <td>40.91</td>\n",
       "      <td>10.68</td>\n",
       "      <td>47.58</td>\n",
       "      <td>52.58</td>\n",
       "      <td>70.44</td>\n",
       "      <td>57.80</td>\n",
       "      <td>17.45</td>\n",
       "      <td>59.08</td>\n",
       "      <td>24.40</td>\n",
       "      <td>35.37</td>\n",
       "      <td>...</td>\n",
       "      <td>26.84</td>\n",
       "      <td>10.74</td>\n",
       "      <td>23.78</td>\n",
       "      <td>58.78</td>\n",
       "      <td>45.99</td>\n",
       "      <td>61.73</td>\n",
       "      <td>56.53</td>\n",
       "      <td>30.38</td>\n",
       "      <td>46.23</td>\n",
       "      <td>58.47</td>\n",
       "    </tr>\n",
       "    <tr>\n",
       "      <th>2006-01-04</th>\n",
       "      <td>40.97</td>\n",
       "      <td>10.71</td>\n",
       "      <td>47.25</td>\n",
       "      <td>51.95</td>\n",
       "      <td>71.17</td>\n",
       "      <td>59.27</td>\n",
       "      <td>17.85</td>\n",
       "      <td>58.91</td>\n",
       "      <td>23.99</td>\n",
       "      <td>35.32</td>\n",
       "      <td>...</td>\n",
       "      <td>26.97</td>\n",
       "      <td>10.69</td>\n",
       "      <td>24.55</td>\n",
       "      <td>58.89</td>\n",
       "      <td>46.50</td>\n",
       "      <td>61.88</td>\n",
       "      <td>56.19</td>\n",
       "      <td>31.27</td>\n",
       "      <td>46.32</td>\n",
       "      <td>58.57</td>\n",
       "    </tr>\n",
       "    <tr>\n",
       "      <th>2006-01-05</th>\n",
       "      <td>41.53</td>\n",
       "      <td>10.63</td>\n",
       "      <td>47.65</td>\n",
       "      <td>52.50</td>\n",
       "      <td>70.33</td>\n",
       "      <td>59.27</td>\n",
       "      <td>18.35</td>\n",
       "      <td>58.19</td>\n",
       "      <td>24.41</td>\n",
       "      <td>35.23</td>\n",
       "      <td>...</td>\n",
       "      <td>26.99</td>\n",
       "      <td>10.76</td>\n",
       "      <td>24.58</td>\n",
       "      <td>58.70</td>\n",
       "      <td>46.95</td>\n",
       "      <td>61.69</td>\n",
       "      <td>55.98</td>\n",
       "      <td>31.63</td>\n",
       "      <td>45.69</td>\n",
       "      <td>58.28</td>\n",
       "    </tr>\n",
       "    <tr>\n",
       "      <th>2006-01-06</th>\n",
       "      <td>43.21</td>\n",
       "      <td>10.90</td>\n",
       "      <td>47.87</td>\n",
       "      <td>52.68</td>\n",
       "      <td>69.35</td>\n",
       "      <td>60.45</td>\n",
       "      <td>18.77</td>\n",
       "      <td>59.25</td>\n",
       "      <td>24.74</td>\n",
       "      <td>35.47</td>\n",
       "      <td>...</td>\n",
       "      <td>26.91</td>\n",
       "      <td>10.72</td>\n",
       "      <td>24.85</td>\n",
       "      <td>58.64</td>\n",
       "      <td>47.21</td>\n",
       "      <td>62.90</td>\n",
       "      <td>56.16</td>\n",
       "      <td>31.35</td>\n",
       "      <td>45.88</td>\n",
       "      <td>59.43</td>\n",
       "    </tr>\n",
       "    <tr>\n",
       "      <th>2006-01-09</th>\n",
       "      <td>43.42</td>\n",
       "      <td>10.86</td>\n",
       "      <td>47.08</td>\n",
       "      <td>53.99</td>\n",
       "      <td>68.77</td>\n",
       "      <td>61.55</td>\n",
       "      <td>19.06</td>\n",
       "      <td>58.95</td>\n",
       "      <td>25.00</td>\n",
       "      <td>35.38</td>\n",
       "      <td>...</td>\n",
       "      <td>26.86</td>\n",
       "      <td>10.88</td>\n",
       "      <td>24.85</td>\n",
       "      <td>59.08</td>\n",
       "      <td>47.23</td>\n",
       "      <td>61.40</td>\n",
       "      <td>56.80</td>\n",
       "      <td>31.48</td>\n",
       "      <td>45.71</td>\n",
       "      <td>59.40</td>\n",
       "    </tr>\n",
       "  </tbody>\n",
       "</table>\n",
       "<p>5 rows × 31 columns</p>\n",
       "</div>"
      ],
      "text/plain": [
       "Name         AABA   AAPL   AMZN    AXP     BA    CAT   CSCO    CVX    DIS  \\\n",
       "Date                                                                        \n",
       "2006-01-03  40.91  10.68  47.58  52.58  70.44  57.80  17.45  59.08  24.40   \n",
       "2006-01-04  40.97  10.71  47.25  51.95  71.17  59.27  17.85  58.91  23.99   \n",
       "2006-01-05  41.53  10.63  47.65  52.50  70.33  59.27  18.35  58.19  24.41   \n",
       "2006-01-06  43.21  10.90  47.87  52.68  69.35  60.45  18.77  59.25  24.74   \n",
       "2006-01-09  43.42  10.86  47.08  53.99  68.77  61.55  19.06  58.95  25.00   \n",
       "\n",
       "Name           GE  ...     MSFT    NKE    PFE     PG    TRV    UNH    UTX  \\\n",
       "Date               ...                                                      \n",
       "2006-01-03  35.37  ...    26.84  10.74  23.78  58.78  45.99  61.73  56.53   \n",
       "2006-01-04  35.32  ...    26.97  10.69  24.55  58.89  46.50  61.88  56.19   \n",
       "2006-01-05  35.23  ...    26.99  10.76  24.58  58.70  46.95  61.69  55.98   \n",
       "2006-01-06  35.47  ...    26.91  10.72  24.85  58.64  47.21  62.90  56.16   \n",
       "2006-01-09  35.38  ...    26.86  10.88  24.85  59.08  47.23  61.40  56.80   \n",
       "\n",
       "Name           VZ    WMT    XOM  \n",
       "Date                             \n",
       "2006-01-03  30.38  46.23  58.47  \n",
       "2006-01-04  31.27  46.32  58.57  \n",
       "2006-01-05  31.63  45.69  58.28  \n",
       "2006-01-06  31.35  45.88  59.43  \n",
       "2006-01-09  31.48  45.71  59.40  \n",
       "\n",
       "[5 rows x 31 columns]"
      ]
     },
     "execution_count": 20,
     "metadata": {},
     "output_type": "execute_result"
    }
   ],
   "source": [
    "multi_ts.head()"
   ]
  },
  {
   "cell_type": "code",
   "execution_count": 21,
   "metadata": {},
   "outputs": [
    {
     "data": {
      "text/plain": [
       "(3020, 31)"
      ]
     },
     "execution_count": 21,
     "metadata": {},
     "output_type": "execute_result"
    }
   ],
   "source": [
    "multi_ts.shape"
   ]
  },
  {
   "cell_type": "code",
   "execution_count": 22,
   "metadata": {},
   "outputs": [],
   "source": [
    "multi_ts.fillna(0,inplace=True)"
   ]
  },
  {
   "cell_type": "code",
   "execution_count": 23,
   "metadata": {},
   "outputs": [
    {
     "data": {
      "text/plain": [
       "Index(['AABA', 'AAPL', 'AMZN', 'AXP', 'BA', 'CAT', 'CSCO', 'CVX', 'DIS', 'GE',\n",
       "       'GOOGL', 'GS', 'HD', 'IBM', 'INTC', 'JNJ', 'JPM', 'KO', 'MCD', 'MMM',\n",
       "       'MRK', 'MSFT', 'NKE', 'PFE', 'PG', 'TRV', 'UNH', 'UTX', 'VZ', 'WMT',\n",
       "       'XOM'],\n",
       "      dtype='object', name='Name')"
      ]
     },
     "execution_count": 23,
     "metadata": {},
     "output_type": "execute_result"
    }
   ],
   "source": [
    "multi_ts.columns"
   ]
  },
  {
   "cell_type": "code",
   "execution_count": 24,
   "metadata": {},
   "outputs": [],
   "source": [
    "scaler=MinMaxScaler(feature_range=(0,1))"
   ]
  },
  {
   "cell_type": "code",
   "execution_count": 25,
   "metadata": {},
   "outputs": [],
   "source": [
    "dataset = scaler.fit_transform(multi_ts)\n",
    "y_min=min(multi_ts['CSCO'])\n",
    "y_max=max(multi_ts['CSCO'])"
   ]
  },
  {
   "cell_type": "code",
   "execution_count": 26,
   "metadata": {},
   "outputs": [],
   "source": [
    "train_fraction = 0.95\n",
    "\n",
    "train_size = int(len(dataset) * train_fraction)\n",
    "test_size = len(dataset) - train_size\n",
    "train, test = dataset[0:train_size, ], dataset[train_size:len(dataset), ]"
   ]
  },
  {
   "cell_type": "code",
   "execution_count": 27,
   "metadata": {},
   "outputs": [
    {
     "data": {
      "text/plain": [
       "(2869, 31)"
      ]
     },
     "execution_count": 27,
     "metadata": {},
     "output_type": "execute_result"
    }
   ],
   "source": [
    "train.shape"
   ]
  },
  {
   "cell_type": "code",
   "execution_count": 28,
   "metadata": {},
   "outputs": [
    {
     "data": {
      "text/plain": [
       "(151, 31)"
      ]
     },
     "execution_count": 28,
     "metadata": {},
     "output_type": "execute_result"
    }
   ],
   "source": [
    "test.shape"
   ]
  },
  {
   "cell_type": "code",
   "execution_count": 29,
   "metadata": {},
   "outputs": [],
   "source": [
    "def create_dataset(dataset, window_size = 1):\n",
    "    data_X, data_Y = [], []\n",
    "    for i in range(len(dataset) - window_size):\n",
    "        a = dataset[i:(i + window_size),]\n",
    "        data_X.append(a)\n",
    "        data_Y.append(dataset[i + window_size, 0])\n",
    "    return(np.array(data_X), np.array(data_Y))"
   ]
  },
  {
   "cell_type": "code",
   "execution_count": 30,
   "metadata": {},
   "outputs": [],
   "source": [
    "window_size = 8\n",
    "train_X, train_Y = create_dataset(train, window_size)\n",
    "test_X, test_Y = create_dataset(test, window_size)\n"
   ]
  },
  {
   "cell_type": "code",
   "execution_count": 31,
   "metadata": {},
   "outputs": [
    {
     "data": {
      "text/plain": [
       "((2861, 8, 31), (2861,))"
      ]
     },
     "execution_count": 31,
     "metadata": {},
     "output_type": "execute_result"
    }
   ],
   "source": [
    "train_X.shape,train_Y.shape"
   ]
  },
  {
   "cell_type": "code",
   "execution_count": 32,
   "metadata": {},
   "outputs": [],
   "source": [
    "train_X = np.reshape(train_X, (train_X.shape[0], window_size, train_X.shape[2]))\n",
    "test_X = np.reshape(test_X, (test_X.shape[0], window_size, test_X.shape[2]))"
   ]
  },
  {
   "cell_type": "code",
   "execution_count": 34,
   "metadata": {},
   "outputs": [
    {
     "name": "stdout",
     "output_type": "stream",
     "text": [
      "Epoch 1/3\n",
      "2861/2861 [==============================] - 15s 5ms/step - loss: 0.0045\n",
      "Epoch 2/3\n",
      "2861/2861 [==============================] - 14s 5ms/step - loss: 8.0393e-04\n",
      "Epoch 3/3\n",
      "2861/2861 [==============================] - 14s 5ms/step - loss: 5.0507e-04\n"
     ]
    },
    {
     "data": {
      "text/plain": [
       "<keras.callbacks.History at 0x1b36931f0b8>"
      ]
     },
     "execution_count": 34,
     "metadata": {},
     "output_type": "execute_result"
    }
   ],
   "source": [
    "model = Sequential()\n",
    "model.add(LSTM(window_size, input_shape=(window_size,train_X.shape[2])))\n",
    "model.add(Dense(1))\n",
    "model.compile(loss='mean_squared_error', optimizer='adam')\n",
    "model.fit(train_X, train_Y, epochs=3, batch_size=1, verbose=1)"
   ]
  },
  {
   "cell_type": "code",
   "execution_count": 35,
   "metadata": {},
   "outputs": [],
   "source": [
    "testPredict = model.predict(test_X)"
   ]
  },
  {
   "cell_type": "code",
   "execution_count": 36,
   "metadata": {},
   "outputs": [],
   "source": [
    "def inverse_transform(data,ymax,ymin):\n",
    "    newdata=ymin+data*(ymax-ymin)\n",
    "    return(newdata)"
   ]
  },
  {
   "cell_type": "code",
   "execution_count": 37,
   "metadata": {},
   "outputs": [],
   "source": [
    "testPredict = inverse_transform(testPredict,y_max,y_min)\n",
    "test_Y = inverse_transform(test_Y,y_max,y_min)"
   ]
  },
  {
   "cell_type": "code",
   "execution_count": 38,
   "metadata": {},
   "outputs": [
    {
     "name": "stdout",
     "output_type": "stream",
     "text": [
      "Test Score: 4.49 RMSE\n"
     ]
    }
   ],
   "source": [
    "import math\n",
    "\n",
    "testScore = math.sqrt(mean_squared_error(test_Y, testPredict))\n",
    "print('Test Score: %.2f RMSE' % (testScore))"
   ]
  },
  {
   "cell_type": "code",
   "execution_count": null,
   "metadata": {},
   "outputs": [],
   "source": []
  }
 ],
 "metadata": {
  "kernelspec": {
   "display_name": "Python 3",
   "language": "python",
   "name": "python3"
  },
  "language_info": {
   "codemirror_mode": {
    "name": "ipython",
    "version": 3
   },
   "file_extension": ".py",
   "mimetype": "text/x-python",
   "name": "python",
   "nbconvert_exporter": "python",
   "pygments_lexer": "ipython3",
   "version": "3.6.4"
  }
 },
 "nbformat": 4,
 "nbformat_minor": 2
}
